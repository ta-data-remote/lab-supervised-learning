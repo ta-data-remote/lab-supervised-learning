{
 "cells": [
  {
   "cell_type": "markdown",
   "metadata": {},
   "source": [
    "# Before your start:\n",
    "- Read the README.md file\n",
    "- Comment as much as you can and use the resources in the README.md file\n",
    "- Happy learning!"
   ]
  },
  {
   "cell_type": "code",
   "execution_count": 16,
   "metadata": {
    "ExecuteTime": {
     "end_time": "2021-05-06T14:33:03.406861Z",
     "start_time": "2021-05-06T14:33:01.989382Z"
    }
   },
   "outputs": [],
   "source": [
    "# Import your libraries:\n",
    "\n",
    "%matplotlib inline\n",
    "\n",
    "import numpy as np\n",
    "import pandas as pd\n",
    "import seaborn"
   ]
  },
  {
   "cell_type": "markdown",
   "metadata": {},
   "source": [
    "In this lab, we will explore a dataset that describes websites with different features and labels them either benign or malicious . We will use supervised learning algorithms to figure out what feature patterns malicious websites are likely to have and use our model to predict malicious websites.\n",
    "\n",
    "# Challenge 1 - Explore The Dataset\n",
    "\n",
    "Let's start by exploring the dataset. First load the data file:"
   ]
  },
  {
   "cell_type": "code",
   "execution_count": 77,
   "metadata": {
    "ExecuteTime": {
     "end_time": "2021-05-06T15:26:19.738191Z",
     "start_time": "2021-05-06T15:26:19.705542Z"
    }
   },
   "outputs": [],
   "source": [
    "websites = pd.read_csv('../data/website.csv')"
   ]
  },
  {
   "cell_type": "markdown",
   "metadata": {},
   "source": [
    "#### Explore the data from an bird's-eye view.\n",
    "\n",
    "You should already been very familiar with the procedures now so we won't provide the instructions step by step. Reflect on what you did in the previous labs and explore the dataset.\n",
    "\n",
    "Things you'll be looking for:\n",
    "\n",
    "* What the dataset looks like?\n",
    "* What are the data types?\n",
    "* Which columns contain the features of the websites?\n",
    "* Which column contains the feature we will predict? What is the code standing for benign vs malicious websites?\n",
    "* Do we need to transform any of the columns from categorical to ordinal values? If so what are these columns?\n",
    "\n",
    "Feel free to add additional cells for your explorations. Make sure to comment what you find out."
   ]
  },
  {
   "cell_type": "code",
   "execution_count": 49,
   "metadata": {
    "ExecuteTime": {
     "end_time": "2021-05-06T15:02:36.811343Z",
     "start_time": "2021-05-06T15:02:36.744617Z"
    }
   },
   "outputs": [
    {
     "data": {
      "text/html": [
       "<div>\n",
       "<style scoped>\n",
       "    .dataframe tbody tr th:only-of-type {\n",
       "        vertical-align: middle;\n",
       "    }\n",
       "\n",
       "    .dataframe tbody tr th {\n",
       "        vertical-align: top;\n",
       "    }\n",
       "\n",
       "    .dataframe thead th {\n",
       "        text-align: right;\n",
       "    }\n",
       "</style>\n",
       "<table border=\"1\" class=\"dataframe\">\n",
       "  <thead>\n",
       "    <tr style=\"text-align: right;\">\n",
       "      <th></th>\n",
       "      <th>URL</th>\n",
       "      <th>URL_LENGTH</th>\n",
       "      <th>NUMBER_SPECIAL_CHARACTERS</th>\n",
       "      <th>CHARSET</th>\n",
       "      <th>SERVER</th>\n",
       "      <th>CONTENT_LENGTH</th>\n",
       "      <th>WHOIS_COUNTRY</th>\n",
       "      <th>WHOIS_STATEPRO</th>\n",
       "      <th>WHOIS_REGDATE</th>\n",
       "      <th>WHOIS_UPDATED_DATE</th>\n",
       "      <th>...</th>\n",
       "      <th>DIST_REMOTE_TCP_PORT</th>\n",
       "      <th>REMOTE_IPS</th>\n",
       "      <th>APP_BYTES</th>\n",
       "      <th>SOURCE_APP_PACKETS</th>\n",
       "      <th>REMOTE_APP_PACKETS</th>\n",
       "      <th>SOURCE_APP_BYTES</th>\n",
       "      <th>REMOTE_APP_BYTES</th>\n",
       "      <th>APP_PACKETS</th>\n",
       "      <th>DNS_QUERY_TIMES</th>\n",
       "      <th>Type</th>\n",
       "    </tr>\n",
       "  </thead>\n",
       "  <tbody>\n",
       "    <tr>\n",
       "      <th>0</th>\n",
       "      <td>M0_109</td>\n",
       "      <td>16</td>\n",
       "      <td>7</td>\n",
       "      <td>iso-8859-1</td>\n",
       "      <td>nginx</td>\n",
       "      <td>263.0</td>\n",
       "      <td>None</td>\n",
       "      <td>None</td>\n",
       "      <td>10/10/2015 18:21</td>\n",
       "      <td>None</td>\n",
       "      <td>...</td>\n",
       "      <td>0</td>\n",
       "      <td>2</td>\n",
       "      <td>700</td>\n",
       "      <td>9</td>\n",
       "      <td>10</td>\n",
       "      <td>1153</td>\n",
       "      <td>832</td>\n",
       "      <td>9</td>\n",
       "      <td>2.0</td>\n",
       "      <td>1</td>\n",
       "    </tr>\n",
       "    <tr>\n",
       "      <th>1</th>\n",
       "      <td>B0_2314</td>\n",
       "      <td>16</td>\n",
       "      <td>6</td>\n",
       "      <td>UTF-8</td>\n",
       "      <td>Apache/2.4.10</td>\n",
       "      <td>15087.0</td>\n",
       "      <td>None</td>\n",
       "      <td>None</td>\n",
       "      <td>None</td>\n",
       "      <td>None</td>\n",
       "      <td>...</td>\n",
       "      <td>7</td>\n",
       "      <td>4</td>\n",
       "      <td>1230</td>\n",
       "      <td>17</td>\n",
       "      <td>19</td>\n",
       "      <td>1265</td>\n",
       "      <td>1230</td>\n",
       "      <td>17</td>\n",
       "      <td>0.0</td>\n",
       "      <td>0</td>\n",
       "    </tr>\n",
       "    <tr>\n",
       "      <th>2</th>\n",
       "      <td>B0_911</td>\n",
       "      <td>16</td>\n",
       "      <td>6</td>\n",
       "      <td>us-ascii</td>\n",
       "      <td>Microsoft-HTTPAPI/2.0</td>\n",
       "      <td>324.0</td>\n",
       "      <td>None</td>\n",
       "      <td>None</td>\n",
       "      <td>None</td>\n",
       "      <td>None</td>\n",
       "      <td>...</td>\n",
       "      <td>0</td>\n",
       "      <td>0</td>\n",
       "      <td>0</td>\n",
       "      <td>0</td>\n",
       "      <td>0</td>\n",
       "      <td>0</td>\n",
       "      <td>0</td>\n",
       "      <td>0</td>\n",
       "      <td>0.0</td>\n",
       "      <td>0</td>\n",
       "    </tr>\n",
       "    <tr>\n",
       "      <th>3</th>\n",
       "      <td>B0_113</td>\n",
       "      <td>17</td>\n",
       "      <td>6</td>\n",
       "      <td>ISO-8859-1</td>\n",
       "      <td>nginx</td>\n",
       "      <td>162.0</td>\n",
       "      <td>US</td>\n",
       "      <td>AK</td>\n",
       "      <td>7/10/1997 4:00</td>\n",
       "      <td>12/09/2013 0:45</td>\n",
       "      <td>...</td>\n",
       "      <td>22</td>\n",
       "      <td>3</td>\n",
       "      <td>3812</td>\n",
       "      <td>39</td>\n",
       "      <td>37</td>\n",
       "      <td>18784</td>\n",
       "      <td>4380</td>\n",
       "      <td>39</td>\n",
       "      <td>8.0</td>\n",
       "      <td>0</td>\n",
       "    </tr>\n",
       "    <tr>\n",
       "      <th>4</th>\n",
       "      <td>B0_403</td>\n",
       "      <td>17</td>\n",
       "      <td>6</td>\n",
       "      <td>UTF-8</td>\n",
       "      <td>None</td>\n",
       "      <td>124140.0</td>\n",
       "      <td>US</td>\n",
       "      <td>TX</td>\n",
       "      <td>12/05/1996 0:00</td>\n",
       "      <td>11/04/2017 0:00</td>\n",
       "      <td>...</td>\n",
       "      <td>2</td>\n",
       "      <td>5</td>\n",
       "      <td>4278</td>\n",
       "      <td>61</td>\n",
       "      <td>62</td>\n",
       "      <td>129889</td>\n",
       "      <td>4586</td>\n",
       "      <td>61</td>\n",
       "      <td>4.0</td>\n",
       "      <td>0</td>\n",
       "    </tr>\n",
       "  </tbody>\n",
       "</table>\n",
       "<p>5 rows × 21 columns</p>\n",
       "</div>"
      ],
      "text/plain": [
       "       URL  URL_LENGTH  NUMBER_SPECIAL_CHARACTERS     CHARSET  \\\n",
       "0   M0_109          16                          7  iso-8859-1   \n",
       "1  B0_2314          16                          6       UTF-8   \n",
       "2   B0_911          16                          6    us-ascii   \n",
       "3   B0_113          17                          6  ISO-8859-1   \n",
       "4   B0_403          17                          6       UTF-8   \n",
       "\n",
       "                  SERVER  CONTENT_LENGTH WHOIS_COUNTRY WHOIS_STATEPRO  \\\n",
       "0                  nginx           263.0          None           None   \n",
       "1          Apache/2.4.10         15087.0          None           None   \n",
       "2  Microsoft-HTTPAPI/2.0           324.0          None           None   \n",
       "3                  nginx           162.0            US             AK   \n",
       "4                   None        124140.0            US             TX   \n",
       "\n",
       "      WHOIS_REGDATE WHOIS_UPDATED_DATE  ...  DIST_REMOTE_TCP_PORT  REMOTE_IPS  \\\n",
       "0  10/10/2015 18:21               None  ...                     0           2   \n",
       "1              None               None  ...                     7           4   \n",
       "2              None               None  ...                     0           0   \n",
       "3    7/10/1997 4:00    12/09/2013 0:45  ...                    22           3   \n",
       "4   12/05/1996 0:00    11/04/2017 0:00  ...                     2           5   \n",
       "\n",
       "   APP_BYTES  SOURCE_APP_PACKETS  REMOTE_APP_PACKETS  SOURCE_APP_BYTES  \\\n",
       "0        700                   9                  10              1153   \n",
       "1       1230                  17                  19              1265   \n",
       "2          0                   0                   0                 0   \n",
       "3       3812                  39                  37             18784   \n",
       "4       4278                  61                  62            129889   \n",
       "\n",
       "   REMOTE_APP_BYTES  APP_PACKETS  DNS_QUERY_TIMES  Type  \n",
       "0               832            9              2.0     1  \n",
       "1              1230           17              0.0     0  \n",
       "2                 0            0              0.0     0  \n",
       "3              4380           39              8.0     0  \n",
       "4              4586           61              4.0     0  \n",
       "\n",
       "[5 rows x 21 columns]"
      ]
     },
     "execution_count": 49,
     "metadata": {},
     "output_type": "execute_result"
    }
   ],
   "source": [
    "websites.head()"
   ]
  },
  {
   "cell_type": "code",
   "execution_count": 5,
   "metadata": {
    "ExecuteTime": {
     "end_time": "2021-05-06T14:18:27.927349Z",
     "start_time": "2021-05-06T14:18:27.888694Z"
    }
   },
   "outputs": [
    {
     "name": "stdout",
     "output_type": "stream",
     "text": [
      "<class 'pandas.core.frame.DataFrame'>\n",
      "RangeIndex: 1781 entries, 0 to 1780\n",
      "Data columns (total 21 columns):\n",
      " #   Column                     Non-Null Count  Dtype  \n",
      "---  ------                     --------------  -----  \n",
      " 0   URL                        1781 non-null   object \n",
      " 1   URL_LENGTH                 1781 non-null   int64  \n",
      " 2   NUMBER_SPECIAL_CHARACTERS  1781 non-null   int64  \n",
      " 3   CHARSET                    1781 non-null   object \n",
      " 4   SERVER                     1780 non-null   object \n",
      " 5   CONTENT_LENGTH             969 non-null    float64\n",
      " 6   WHOIS_COUNTRY              1781 non-null   object \n",
      " 7   WHOIS_STATEPRO             1781 non-null   object \n",
      " 8   WHOIS_REGDATE              1781 non-null   object \n",
      " 9   WHOIS_UPDATED_DATE         1781 non-null   object \n",
      " 10  TCP_CONVERSATION_EXCHANGE  1781 non-null   int64  \n",
      " 11  DIST_REMOTE_TCP_PORT       1781 non-null   int64  \n",
      " 12  REMOTE_IPS                 1781 non-null   int64  \n",
      " 13  APP_BYTES                  1781 non-null   int64  \n",
      " 14  SOURCE_APP_PACKETS         1781 non-null   int64  \n",
      " 15  REMOTE_APP_PACKETS         1781 non-null   int64  \n",
      " 16  SOURCE_APP_BYTES           1781 non-null   int64  \n",
      " 17  REMOTE_APP_BYTES           1781 non-null   int64  \n",
      " 18  APP_PACKETS                1781 non-null   int64  \n",
      " 19  DNS_QUERY_TIMES            1780 non-null   float64\n",
      " 20  Type                       1781 non-null   int64  \n",
      "dtypes: float64(2), int64(12), object(7)\n",
      "memory usage: 292.3+ KB\n"
     ]
    }
   ],
   "source": [
    "websites.info()"
   ]
  },
  {
   "cell_type": "code",
   "execution_count": 8,
   "metadata": {
    "ExecuteTime": {
     "end_time": "2021-05-06T14:27:17.521601Z",
     "start_time": "2021-05-06T14:27:17.501948Z"
    }
   },
   "outputs": [
    {
     "data": {
      "text/plain": [
       "0    1565\n",
       "1     216\n",
       "Name: Type, dtype: int64"
      ]
     },
     "execution_count": 8,
     "metadata": {},
     "output_type": "execute_result"
    }
   ],
   "source": [
    "websites['Type'].value_counts()"
   ]
  },
  {
   "cell_type": "markdown",
   "metadata": {},
   "source": [
    "#### Next, evaluate if the columns in this dataset are strongly correlated.\n",
    "\n",
    "If our dataset has strongly correlated columns, we need to choose certain ML algorithms instead of others. We need to evaluate this for our dataset now.\n",
    "\n",
    "Luckily, most of the columns in this dataset are ordinal which makes things a lot easier for us. In the next cells below, evaluate the level of collinearity of the data.\n",
    "\n",
    "We provide some general directions for you to consult in order to complete this step:\n",
    "\n",
    "1. You will create a correlation matrix using the numeric columns in the dataset.\n",
    "\n",
    "1. Create a heatmap using `seaborn` to visualize which columns have high collinearity.\n",
    "\n",
    "1. Comment on which columns you might need to remove due to high collinearity."
   ]
  },
  {
   "cell_type": "code",
   "execution_count": 50,
   "metadata": {
    "ExecuteTime": {
     "end_time": "2021-05-06T15:03:09.033598Z",
     "start_time": "2021-05-06T15:03:06.564878Z"
    }
   },
   "outputs": [
    {
     "data": {
      "text/plain": [
       "<AxesSubplot:>"
      ]
     },
     "execution_count": 50,
     "metadata": {},
     "output_type": "execute_result"
    },
    {
     "data": {
      "image/png": "[encoded data removed]",
      "text/plain": [
       "<Figure size 432x288 with 2 Axes>"
      ]
     },
     "metadata": {
      "needs_background": "light"
     },
     "output_type": "display_data"
    }
   ],
   "source": [
    "seaborn.heatmap(websites.corr(), annot=True)"
   ]
  },
  {
   "cell_type": "markdown",
   "metadata": {},
   "source": [
    "# Challenge 2 - Remove Column Collinearity.\n",
    "\n",
    "From the heatmap you created, you should have seen at least 3 columns that can be removed due to high collinearity. Remove these columns from the dataset.\n",
    "\n",
    "Note that you should remove as few columns as you can. You don't have to remove all the columns at once. But instead, try removing one column, then produce the heatmap again to determine if additional columns should be removed. As long as the dataset no longer contains columns that are correlated for over 90%, you can stop. Also, keep in mind when two columns have high collinearity, you only need to remove one of them but not both.\n",
    "\n",
    "In the cells below, remove as few columns as you can to eliminate the high collinearity in the dataset. Make sure to comment on your way so that the instructional team can learn about your thinking process which allows them to give feedback. At the end, print the heatmap again."
   ]
  },
  {
   "cell_type": "code",
   "execution_count": 51,
   "metadata": {
    "ExecuteTime": {
     "end_time": "2021-05-06T15:03:17.984433Z",
     "start_time": "2021-05-06T15:03:17.967034Z"
    }
   },
   "outputs": [
    {
     "data": {
      "text/plain": [
       "True    1781\n",
       "dtype: int64"
      ]
     },
     "execution_count": 51,
     "metadata": {},
     "output_type": "execute_result"
    }
   ],
   "source": [
    "(websites['SOURCE_APP_PACKETS']==websites['APP_PACKETS']).value_counts()"
   ]
  },
  {
   "cell_type": "code",
   "execution_count": 78,
   "metadata": {
    "ExecuteTime": {
     "end_time": "2021-05-06T15:26:29.189853Z",
     "start_time": "2021-05-06T15:26:29.180212Z"
    }
   },
   "outputs": [],
   "source": [
    "websites.drop(columns=['SOURCE_APP_PACKETS','REMOTE_APP_PACKETS','TCP_CONVERSATION_EXCHANGE','REMOTE_APP_BYTES'],inplace=True,errors='ignore')"
   ]
  },
  {
   "cell_type": "code",
   "execution_count": 8,
   "metadata": {},
   "outputs": [],
   "source": [
    "#The columns SOURCE_APP_PACKETS and APP_PACKETS are the same so we will drop SOURCE_APP_PACKETS\n",
    "# REMOTE_APP_PACKETS and TCP_CONVERSATION_EXCHANGE also have high collinearity with APP_PACKETS\n",
    "# REMOTE_APP_BYTES and APP_BYTES also have high collinearity between them"
   ]
  },
  {
   "cell_type": "code",
   "execution_count": 53,
   "metadata": {
    "ExecuteTime": {
     "end_time": "2021-05-06T15:03:23.683034Z",
     "start_time": "2021-05-06T15:03:20.781997Z"
    }
   },
   "outputs": [
    {
     "data": {
      "text/plain": [
       "<AxesSubplot:>"
      ]
     },
     "execution_count": 53,
     "metadata": {},
     "output_type": "execute_result"
    },
    {
     "data": {
      "image/png": "[encoded data removed]",
      "text/plain": [
       "<Figure size 432x288 with 2 Axes>"
      ]
     },
     "metadata": {
      "needs_background": "light"
     },
     "output_type": "display_data"
    }
   ],
   "source": [
    "seaborn.heatmap(websites.corr(), annot=True)"
   ]
  },
  {
   "cell_type": "markdown",
   "metadata": {},
   "source": [
    "# Challenge 3 - Handle Missing Values\n",
    "\n",
    "The next step would be handling missing values. **We start by examining the number of missing values in each column, which you will do in the next cell.**"
   ]
  },
  {
   "cell_type": "code",
   "execution_count": 54,
   "metadata": {
    "ExecuteTime": {
     "end_time": "2021-05-06T15:03:25.824899Z",
     "start_time": "2021-05-06T15:03:25.787598Z"
    }
   },
   "outputs": [
    {
     "name": "stdout",
     "output_type": "stream",
     "text": [
      "<class 'pandas.core.frame.DataFrame'>\n",
      "RangeIndex: 1781 entries, 0 to 1780\n",
      "Data columns (total 17 columns):\n",
      " #   Column                     Non-Null Count  Dtype  \n",
      "---  ------                     --------------  -----  \n",
      " 0   URL                        1781 non-null   object \n",
      " 1   URL_LENGTH                 1781 non-null   int64  \n",
      " 2   NUMBER_SPECIAL_CHARACTERS  1781 non-null   int64  \n",
      " 3   CHARSET                    1781 non-null   object \n",
      " 4   SERVER                     1780 non-null   object \n",
      " 5   CONTENT_LENGTH             969 non-null    float64\n",
      " 6   WHOIS_COUNTRY              1781 non-null   object \n",
      " 7   WHOIS_STATEPRO             1781 non-null   object \n",
      " 8   WHOIS_REGDATE              1781 non-null   object \n",
      " 9   WHOIS_UPDATED_DATE         1781 non-null   object \n",
      " 10  DIST_REMOTE_TCP_PORT       1781 non-null   int64  \n",
      " 11  REMOTE_IPS                 1781 non-null   int64  \n",
      " 12  APP_BYTES                  1781 non-null   int64  \n",
      " 13  SOURCE_APP_BYTES           1781 non-null   int64  \n",
      " 14  APP_PACKETS                1781 non-null   int64  \n",
      " 15  DNS_QUERY_TIMES            1780 non-null   float64\n",
      " 16  Type                       1781 non-null   int64  \n",
      "dtypes: float64(2), int64(8), object(7)\n",
      "memory usage: 236.7+ KB\n"
     ]
    }
   ],
   "source": [
    "websites.info()"
   ]
  },
  {
   "cell_type": "markdown",
   "metadata": {},
   "source": [
    "If you remember in the previous labs, we drop a column if the column contains a high proportion of missing values. After dropping those problematic columns, we drop the rows with missing values.\n",
    "\n",
    "#### In the cells below, handle the missing values from the dataset. Remember to comment the rationale of your decisions."
   ]
  },
  {
   "cell_type": "code",
   "execution_count": 79,
   "metadata": {
    "ExecuteTime": {
     "end_time": "2021-05-06T15:26:34.222778Z",
     "start_time": "2021-05-06T15:26:34.214867Z"
    }
   },
   "outputs": [],
   "source": [
    "#One column: CONTENT_LENGTH which is missing more than half of the values, so we will drop it\n",
    "\n",
    "websites.drop(columns=['CONTENT_LENGTH'],inplace=True,errors='ignore')"
   ]
  },
  {
   "cell_type": "code",
   "execution_count": 56,
   "metadata": {
    "ExecuteTime": {
     "end_time": "2021-05-06T15:03:38.793114Z",
     "start_time": "2021-05-06T15:03:38.737587Z"
    }
   },
   "outputs": [
    {
     "data": {
      "text/html": [
       "<div>\n",
       "<style scoped>\n",
       "    .dataframe tbody tr th:only-of-type {\n",
       "        vertical-align: middle;\n",
       "    }\n",
       "\n",
       "    .dataframe tbody tr th {\n",
       "        vertical-align: top;\n",
       "    }\n",
       "\n",
       "    .dataframe thead th {\n",
       "        text-align: right;\n",
       "    }\n",
       "</style>\n",
       "<table border=\"1\" class=\"dataframe\">\n",
       "  <thead>\n",
       "    <tr style=\"text-align: right;\">\n",
       "      <th></th>\n",
       "      <th>URL</th>\n",
       "      <th>URL_LENGTH</th>\n",
       "      <th>NUMBER_SPECIAL_CHARACTERS</th>\n",
       "      <th>CHARSET</th>\n",
       "      <th>SERVER</th>\n",
       "      <th>WHOIS_COUNTRY</th>\n",
       "      <th>WHOIS_STATEPRO</th>\n",
       "      <th>WHOIS_REGDATE</th>\n",
       "      <th>WHOIS_UPDATED_DATE</th>\n",
       "      <th>DIST_REMOTE_TCP_PORT</th>\n",
       "      <th>REMOTE_IPS</th>\n",
       "      <th>APP_BYTES</th>\n",
       "      <th>SOURCE_APP_BYTES</th>\n",
       "      <th>APP_PACKETS</th>\n",
       "      <th>DNS_QUERY_TIMES</th>\n",
       "      <th>Type</th>\n",
       "    </tr>\n",
       "  </thead>\n",
       "  <tbody>\n",
       "    <tr>\n",
       "      <th>1306</th>\n",
       "      <td>B0_2134</td>\n",
       "      <td>66</td>\n",
       "      <td>11</td>\n",
       "      <td>UTF-8</td>\n",
       "      <td>NaN</td>\n",
       "      <td>US</td>\n",
       "      <td>District of Columbia</td>\n",
       "      <td>1/02/2003 16:44</td>\n",
       "      <td>2/02/2017 17:11</td>\n",
       "      <td>2</td>\n",
       "      <td>4</td>\n",
       "      <td>1026</td>\n",
       "      <td>246</td>\n",
       "      <td>15</td>\n",
       "      <td>0.0</td>\n",
       "      <td>0</td>\n",
       "    </tr>\n",
       "  </tbody>\n",
       "</table>\n",
       "</div>"
      ],
      "text/plain": [
       "          URL  URL_LENGTH  NUMBER_SPECIAL_CHARACTERS CHARSET SERVER  \\\n",
       "1306  B0_2134          66                         11   UTF-8    NaN   \n",
       "\n",
       "     WHOIS_COUNTRY        WHOIS_STATEPRO    WHOIS_REGDATE WHOIS_UPDATED_DATE  \\\n",
       "1306            US  District of Columbia  1/02/2003 16:44    2/02/2017 17:11   \n",
       "\n",
       "      DIST_REMOTE_TCP_PORT  REMOTE_IPS  APP_BYTES  SOURCE_APP_BYTES  \\\n",
       "1306                     2           4       1026               246   \n",
       "\n",
       "      APP_PACKETS  DNS_QUERY_TIMES  Type  \n",
       "1306           15              0.0     0  "
      ]
     },
     "execution_count": 56,
     "metadata": {},
     "output_type": "execute_result"
    }
   ],
   "source": [
    "websites[websites['SERVER'].isnull()]"
   ]
  },
  {
   "cell_type": "code",
   "execution_count": 57,
   "metadata": {
    "ExecuteTime": {
     "end_time": "2021-05-06T15:03:54.437825Z",
     "start_time": "2021-05-06T15:03:54.396141Z"
    }
   },
   "outputs": [
    {
     "data": {
      "text/html": [
       "<div>\n",
       "<style scoped>\n",
       "    .dataframe tbody tr th:only-of-type {\n",
       "        vertical-align: middle;\n",
       "    }\n",
       "\n",
       "    .dataframe tbody tr th {\n",
       "        vertical-align: top;\n",
       "    }\n",
       "\n",
       "    .dataframe thead th {\n",
       "        text-align: right;\n",
       "    }\n",
       "</style>\n",
       "<table border=\"1\" class=\"dataframe\">\n",
       "  <thead>\n",
       "    <tr style=\"text-align: right;\">\n",
       "      <th></th>\n",
       "      <th>URL</th>\n",
       "      <th>URL_LENGTH</th>\n",
       "      <th>NUMBER_SPECIAL_CHARACTERS</th>\n",
       "      <th>CHARSET</th>\n",
       "      <th>SERVER</th>\n",
       "      <th>WHOIS_COUNTRY</th>\n",
       "      <th>WHOIS_STATEPRO</th>\n",
       "      <th>WHOIS_REGDATE</th>\n",
       "      <th>WHOIS_UPDATED_DATE</th>\n",
       "      <th>DIST_REMOTE_TCP_PORT</th>\n",
       "      <th>REMOTE_IPS</th>\n",
       "      <th>APP_BYTES</th>\n",
       "      <th>SOURCE_APP_BYTES</th>\n",
       "      <th>APP_PACKETS</th>\n",
       "      <th>DNS_QUERY_TIMES</th>\n",
       "      <th>Type</th>\n",
       "    </tr>\n",
       "  </thead>\n",
       "  <tbody>\n",
       "    <tr>\n",
       "      <th>1659</th>\n",
       "      <td>B0_772</td>\n",
       "      <td>101</td>\n",
       "      <td>15</td>\n",
       "      <td>UTF-8</td>\n",
       "      <td>Apache</td>\n",
       "      <td>CA</td>\n",
       "      <td>ON</td>\n",
       "      <td>14/12/2009 0:00</td>\n",
       "      <td>13/12/2016 0:00</td>\n",
       "      <td>2</td>\n",
       "      <td>2</td>\n",
       "      <td>276</td>\n",
       "      <td>416</td>\n",
       "      <td>4</td>\n",
       "      <td>NaN</td>\n",
       "      <td>0</td>\n",
       "    </tr>\n",
       "  </tbody>\n",
       "</table>\n",
       "</div>"
      ],
      "text/plain": [
       "         URL  URL_LENGTH  NUMBER_SPECIAL_CHARACTERS CHARSET  SERVER  \\\n",
       "1659  B0_772         101                         15   UTF-8  Apache   \n",
       "\n",
       "     WHOIS_COUNTRY WHOIS_STATEPRO    WHOIS_REGDATE WHOIS_UPDATED_DATE  \\\n",
       "1659            CA             ON  14/12/2009 0:00    13/12/2016 0:00   \n",
       "\n",
       "      DIST_REMOTE_TCP_PORT  REMOTE_IPS  APP_BYTES  SOURCE_APP_BYTES  \\\n",
       "1659                     2           2        276               416   \n",
       "\n",
       "      APP_PACKETS  DNS_QUERY_TIMES  Type  \n",
       "1659            4              NaN     0  "
      ]
     },
     "execution_count": 57,
     "metadata": {},
     "output_type": "execute_result"
    }
   ],
   "source": [
    "websites[websites['DNS_QUERY_TIMES'].isnull()]"
   ]
  },
  {
   "cell_type": "code",
   "execution_count": 80,
   "metadata": {
    "ExecuteTime": {
     "end_time": "2021-05-06T15:26:38.615953Z",
     "start_time": "2021-05-06T15:26:38.589663Z"
    }
   },
   "outputs": [],
   "source": [
    "websites.dropna(inplace=True)"
   ]
  },
  {
   "cell_type": "code",
   "execution_count": 59,
   "metadata": {
    "ExecuteTime": {
     "end_time": "2021-05-06T15:05:41.404615Z",
     "start_time": "2021-05-06T15:05:41.395042Z"
    }
   },
   "outputs": [],
   "source": [
    "# As done before, we first drop the columns with high proportion of missing values and then examine individual rows"
   ]
  },
  {
   "cell_type": "markdown",
   "metadata": {},
   "source": [
    "#### Again, examine the number of missing values in each column. \n",
    "\n",
    "If all cleaned, proceed. Otherwise, go back and do more cleaning."
   ]
  },
  {
   "cell_type": "code",
   "execution_count": 60,
   "metadata": {
    "ExecuteTime": {
     "end_time": "2021-05-06T15:06:22.122837Z",
     "start_time": "2021-05-06T15:06:22.096177Z"
    }
   },
   "outputs": [
    {
     "name": "stdout",
     "output_type": "stream",
     "text": [
      "<class 'pandas.core.frame.DataFrame'>\n",
      "Int64Index: 1779 entries, 0 to 1780\n",
      "Data columns (total 16 columns):\n",
      " #   Column                     Non-Null Count  Dtype  \n",
      "---  ------                     --------------  -----  \n",
      " 0   URL                        1779 non-null   object \n",
      " 1   URL_LENGTH                 1779 non-null   int64  \n",
      " 2   NUMBER_SPECIAL_CHARACTERS  1779 non-null   int64  \n",
      " 3   CHARSET                    1779 non-null   object \n",
      " 4   SERVER                     1779 non-null   object \n",
      " 5   WHOIS_COUNTRY              1779 non-null   object \n",
      " 6   WHOIS_STATEPRO             1779 non-null   object \n",
      " 7   WHOIS_REGDATE              1779 non-null   object \n",
      " 8   WHOIS_UPDATED_DATE         1779 non-null   object \n",
      " 9   DIST_REMOTE_TCP_PORT       1779 non-null   int64  \n",
      " 10  REMOTE_IPS                 1779 non-null   int64  \n",
      " 11  APP_BYTES                  1779 non-null   int64  \n",
      " 12  SOURCE_APP_BYTES           1779 non-null   int64  \n",
      " 13  APP_PACKETS                1779 non-null   int64  \n",
      " 14  DNS_QUERY_TIMES            1779 non-null   float64\n",
      " 15  Type                       1779 non-null   int64  \n",
      "dtypes: float64(1), int64(8), object(7)\n",
      "memory usage: 236.3+ KB\n"
     ]
    }
   ],
   "source": [
    "websites.info()"
   ]
  },
  {
   "cell_type": "markdown",
   "metadata": {},
   "source": [
    "# Challenge 4 - Handle `WHOIS_*` Categorical Data"
   ]
  },
  {
   "cell_type": "markdown",
   "metadata": {},
   "source": [
    "There are several categorical columns we need to handle. These columns are:\n",
    "\n",
    "* `URL`\n",
    "* `CHARSET`\n",
    "* `SERVER`\n",
    "* `WHOIS_COUNTRY`\n",
    "* `WHOIS_STATEPRO`\n",
    "* `WHOIS_REGDATE`\n",
    "* `WHOIS_UPDATED_DATE`\n",
    "\n",
    "How to handle string columns is always case by case. Let's start by working on `WHOIS_COUNTRY`. Your steps are:\n",
    "\n",
    "1. List out the unique values of `WHOIS_COUNTRY`.\n",
    "1. Consolidate the country values with consistent country codes. For example, the following values refer to the same country and should use consistent country code:\n",
    "    * `CY` and `Cyprus`\n",
    "    * `US` and `us`\n",
    "    * `SE` and `se`\n",
    "    * `GB`, `United Kingdom`, and `[u'GB'; u'UK']`\n",
    "\n",
    "#### In the cells below, fix the country values as intructed above."
   ]
  },
  {
   "cell_type": "code",
   "execution_count": 61,
   "metadata": {
    "ExecuteTime": {
     "end_time": "2021-05-06T15:11:03.682080Z",
     "start_time": "2021-05-06T15:11:03.673678Z"
    }
   },
   "outputs": [
    {
     "data": {
      "text/plain": [
       "array(['None', 'US', 'SC', 'GB', 'UK', 'RU', 'AU', 'CA', 'PA', 'se', 'IN',\n",
       "       'LU', 'TH', \"[u'GB'; u'UK']\", 'FR', 'NL', 'UG', 'JP', 'CN', 'SE',\n",
       "       'SI', 'IL', 'ru', 'KY', 'AT', 'CZ', 'PH', 'BE', 'NO', 'TR', 'LV',\n",
       "       'DE', 'ES', 'BR', 'us', 'KR', 'HK', 'UA', 'CH', 'United Kingdom',\n",
       "       'BS', 'PK', 'IT', 'Cyprus', 'BY', 'AE', 'IE', 'UY', 'KG'],\n",
       "      dtype=object)"
      ]
     },
     "execution_count": 61,
     "metadata": {},
     "output_type": "execute_result"
    }
   ],
   "source": [
    "websites['WHOIS_COUNTRY'].unique()"
   ]
  },
  {
   "cell_type": "code",
   "execution_count": 81,
   "metadata": {
    "ExecuteTime": {
     "end_time": "2021-05-06T15:26:47.509341Z",
     "start_time": "2021-05-06T15:26:47.489587Z"
    }
   },
   "outputs": [
    {
     "data": {
      "text/plain": [
       "array(['None', 'US', 'SC', 'UK', 'RU', 'AU', 'CA', 'PA', 'SE', 'IN', 'LU',\n",
       "       'TH', 'FR', 'NL', 'UG', 'JP', 'CN', 'SI', 'IL', 'KY', 'AT', 'CZ',\n",
       "       'PH', 'BE', 'NO', 'TR', 'LV', 'DE', 'ES', 'BR', 'KR', 'HK', 'UA',\n",
       "       'CH', 'BS', 'PK', 'IT', 'CY', 'BY', 'AE', 'IE', 'UY', 'KG'],\n",
       "      dtype=object)"
      ]
     },
     "execution_count": 81,
     "metadata": {},
     "output_type": "execute_result"
    }
   ],
   "source": [
    "fix_dict = {'Cyprus':'CY','GB':'UK','United Kingdom':'UK','se':'SE','ru':'RU','us':'US',\"[u'GB'; u'UK']\":'UK'}\n",
    "\n",
    "for key,value in fix_dict.items():\n",
    "    websites.loc[websites['WHOIS_COUNTRY']==key,'WHOIS_COUNTRY']=value\n",
    "\n",
    "websites['WHOIS_COUNTRY'].unique()"
   ]
  },
  {
   "cell_type": "markdown",
   "metadata": {},
   "source": [
    "Since we have fixed the country values, can we convert this column to ordinal now?\n",
    "\n",
    "Not yet. If you reflect on the previous labs how we handle categorical columns, you probably remember we ended up dropping a lot of those columns because there are too many unique values. Too many unique values in a column is not desirable in machine learning because it makes prediction inaccurate. But there are workarounds under certain conditions. One of the fixable conditions is:\n",
    "\n",
    "#### If a limited number of values account for the majority of data, we can retain these top values and re-label all other rare values.\n",
    "\n",
    "The `WHOIS_COUNTRY` column happens to be this case. You can verify it by print a bar chart of the `value_counts` in the next cell to verify:"
   ]
  },
  {
   "cell_type": "code",
   "execution_count": 82,
   "metadata": {
    "ExecuteTime": {
     "end_time": "2021-05-06T15:26:51.533040Z",
     "start_time": "2021-05-06T15:26:51.504916Z"
    },
    "scrolled": true
   },
   "outputs": [
    {
     "data": {
      "text/plain": [
       "US      1105\n",
       "None     306\n",
       "CA        83\n",
       "ES        63\n",
       "UK        35\n",
       "AU        35\n",
       "PA        21\n",
       "JP        11\n",
       "IN        10\n",
       "CN        10\n",
       "FR         9\n",
       "CZ         9\n",
       "CH         6\n",
       "RU         6\n",
       "NL         6\n",
       "KR         5\n",
       "SE         4\n",
       "AT         4\n",
       "BS         4\n",
       "PH         4\n",
       "HK         3\n",
       "BE         3\n",
       "TR         3\n",
       "KY         3\n",
       "SC         3\n",
       "DE         3\n",
       "KG         2\n",
       "UA         2\n",
       "SI         2\n",
       "BR         2\n",
       "UY         2\n",
       "CY         2\n",
       "NO         2\n",
       "IL         2\n",
       "UG         1\n",
       "LV         1\n",
       "LU         1\n",
       "BY         1\n",
       "AE         1\n",
       "IE         1\n",
       "PK         1\n",
       "IT         1\n",
       "TH         1\n",
       "Name: WHOIS_COUNTRY, dtype: int64"
      ]
     },
     "execution_count": 82,
     "metadata": {},
     "output_type": "execute_result"
    }
   ],
   "source": [
    "websites['WHOIS_COUNTRY'].value_counts()"
   ]
  },
  {
   "cell_type": "markdown",
   "metadata": {},
   "source": [
    "#### After verifying, now let's keep the top 10 values of the column and re-label other columns with `OTHER`."
   ]
  },
  {
   "cell_type": "code",
   "execution_count": 84,
   "metadata": {
    "ExecuteTime": {
     "end_time": "2021-05-06T15:29:58.465074Z",
     "start_time": "2021-05-06T15:29:58.454912Z"
    },
    "scrolled": true
   },
   "outputs": [],
   "source": [
    "top10countries = ['US','None','CA','ES','UK','AU','PA','JP','IN','CN']\n",
    "websites.loc[~websites['WHOIS_COUNTRY'].isin(top10countries),'WHOIS_COUNTRY'] = 'OTHER'"
   ]
  },
  {
   "cell_type": "code",
   "execution_count": 85,
   "metadata": {
    "ExecuteTime": {
     "end_time": "2021-05-06T15:30:00.647845Z",
     "start_time": "2021-05-06T15:30:00.624528Z"
    }
   },
   "outputs": [
    {
     "data": {
      "text/plain": [
       "US       1105\n",
       "None      306\n",
       "OTHER     100\n",
       "CA         83\n",
       "ES         63\n",
       "AU         35\n",
       "UK         35\n",
       "PA         21\n",
       "JP         11\n",
       "CN         10\n",
       "IN         10\n",
       "Name: WHOIS_COUNTRY, dtype: int64"
      ]
     },
     "execution_count": 85,
     "metadata": {},
     "output_type": "execute_result"
    }
   ],
   "source": [
    "websites['WHOIS_COUNTRY'].value_counts()"
   ]
  },
  {
   "cell_type": "markdown",
   "metadata": {},
   "source": [
    "Now since `WHOIS_COUNTRY` has been re-labelled, we don't need `WHOIS_STATEPRO` any more because the values of the states or provinces may not be relevant any more. We'll drop this column.\n",
    "\n",
    "In addition, we will also drop `WHOIS_REGDATE` and `WHOIS_UPDATED_DATE`. These are the registration and update dates of the website domains. Not of our concerns.\n",
    "\n",
    "#### In the next cell, drop `['WHOIS_STATEPRO', 'WHOIS_REGDATE', 'WHOIS_UPDATED_DATE']`."
   ]
  },
  {
   "cell_type": "code",
   "execution_count": 91,
   "metadata": {
    "ExecuteTime": {
     "end_time": "2021-05-06T15:33:51.760349Z",
     "start_time": "2021-05-06T15:33:51.747204Z"
    }
   },
   "outputs": [],
   "source": [
    "websites.drop(columns=['WHOIS_STATEPRO', 'WHOIS_REGDATE', 'WHOIS_UPDATED_DATE'],inplace=True,errors='ignore')"
   ]
  },
  {
   "cell_type": "markdown",
   "metadata": {},
   "source": [
    "# Challenge 5 - Handle Remaining Categorical Data & Convert to Ordinal\n",
    "\n",
    "Now print the `dtypes` of the data again. Besides `WHOIS_COUNTRY` which we already fixed, there should be 3 categorical columns left: `URL`, `CHARSET`, and `SERVER`."
   ]
  },
  {
   "cell_type": "code",
   "execution_count": 88,
   "metadata": {
    "ExecuteTime": {
     "end_time": "2021-05-06T15:32:42.420559Z",
     "start_time": "2021-05-06T15:32:42.375323Z"
    }
   },
   "outputs": [
    {
     "name": "stdout",
     "output_type": "stream",
     "text": [
      "<class 'pandas.core.frame.DataFrame'>\n",
      "Int64Index: 1779 entries, 0 to 1780\n",
      "Data columns (total 13 columns):\n",
      " #   Column                     Non-Null Count  Dtype  \n",
      "---  ------                     --------------  -----  \n",
      " 0   URL                        1779 non-null   object \n",
      " 1   URL_LENGTH                 1779 non-null   int64  \n",
      " 2   NUMBER_SPECIAL_CHARACTERS  1779 non-null   int64  \n",
      " 3   CHARSET                    1779 non-null   object \n",
      " 4   SERVER                     1779 non-null   object \n",
      " 5   WHOIS_COUNTRY              1779 non-null   object \n",
      " 6   DIST_REMOTE_TCP_PORT       1779 non-null   int64  \n",
      " 7   REMOTE_IPS                 1779 non-null   int64  \n",
      " 8   APP_BYTES                  1779 non-null   int64  \n",
      " 9   SOURCE_APP_BYTES           1779 non-null   int64  \n",
      " 10  APP_PACKETS                1779 non-null   int64  \n",
      " 11  DNS_QUERY_TIMES            1779 non-null   float64\n",
      " 12  Type                       1779 non-null   int64  \n",
      "dtypes: float64(1), int64(8), object(4)\n",
      "memory usage: 194.6+ KB\n"
     ]
    }
   ],
   "source": [
    "websites.info()"
   ]
  },
  {
   "cell_type": "markdown",
   "metadata": {},
   "source": [
    "#### `URL` is easy. We'll simply drop it because it has too many unique values that there's no way for us to consolidate."
   ]
  },
  {
   "cell_type": "code",
   "execution_count": 92,
   "metadata": {
    "ExecuteTime": {
     "end_time": "2021-05-06T15:33:54.531297Z",
     "start_time": "2021-05-06T15:33:54.526072Z"
    }
   },
   "outputs": [],
   "source": [
    "websites.drop(columns='URL',inplace=True,errors='ignore')"
   ]
  },
  {
   "cell_type": "markdown",
   "metadata": {},
   "source": [
    "#### Print the unique value counts of `CHARSET`. You see there are only a few unique values. So we can keep it as it is."
   ]
  },
  {
   "cell_type": "code",
   "execution_count": 97,
   "metadata": {
    "ExecuteTime": {
     "end_time": "2021-05-06T15:34:31.832336Z",
     "start_time": "2021-05-06T15:34:31.815245Z"
    }
   },
   "outputs": [
    {
     "data": {
      "text/plain": [
       "UTF-8           674\n",
       "ISO-8859-1      427\n",
       "utf-8           379\n",
       "us-ascii        155\n",
       "iso-8859-1      134\n",
       "None              7\n",
       "windows-1252      1\n",
       "windows-1251      1\n",
       "ISO-8859          1\n",
       "Name: CHARSET, dtype: int64"
      ]
     },
     "execution_count": 97,
     "metadata": {},
     "output_type": "execute_result"
    }
   ],
   "source": [
    "websites['CHARSET'].value_counts()"
   ]
  },
  {
   "cell_type": "markdown",
   "metadata": {},
   "source": [
    "`SERVER` is a little more complicated. Print its unique values and think about how you can consolidate those values.\n",
    "\n",
    "#### Before you think of your own solution, don't read the instructions that come next."
   ]
  },
  {
   "cell_type": "code",
   "execution_count": 100,
   "metadata": {
    "ExecuteTime": {
     "end_time": "2021-05-06T15:35:25.665816Z",
     "start_time": "2021-05-06T15:35:25.622621Z"
    }
   },
   "outputs": [
    {
     "name": "stdout",
     "output_type": "stream",
     "text": [
      "nginx\n",
      "Apache/2.4.10\n",
      "Microsoft-HTTPAPI/2.0\n",
      "None\n",
      "Apache/2\n",
      "nginx/1.10.1\n",
      "Apache\n",
      "Apache/2.2.15 (Red Hat)\n",
      "Apache/2.4.23 (Unix) OpenSSL/1.0.1e-fips mod_bwlimited/1.4\n",
      "openresty/1.11.2.1\n",
      "Apache/2.2.22\n",
      "Apache/2.4.7 (Ubuntu)\n",
      "nginx/1.12.0\n",
      "Apache/2.4.12 (Unix) OpenSSL/1.0.1e-fips mod_bwlimited/1.4\n",
      "Oracle-iPlanet-Web-Server/7.0\n",
      "cloudflare-nginx\n",
      "nginx/1.6.2\n",
      "openresty\n",
      "Heptu web server\n",
      "Pepyaka/1.11.3\n",
      "nginx/1.8.0\n",
      "nginx/1.10.1 + Phusion Passenger 5.0.30\n",
      "Apache/2.2.29 (Amazon)\n",
      "Microsoft-IIS/7.5\n",
      "LiteSpeed\n",
      "Apache/2.4.25 (cPanel) OpenSSL/1.0.1e-fips mod_bwlimited/1.4\n",
      "tsa_c\n",
      "Apache/2.2.0 (Fedora)\n",
      "Apache/2.2.22 (Debian)\n",
      "Apache/2.2.15 (CentOS)\n",
      "Apache/2.4.25\n",
      "Apache/2.4.25 (Amazon) PHP/7.0.14\n",
      "GSE\n",
      "Apache/2.4.23 (Unix) OpenSSL/0.9.8e-fips-rhel5 mod_bwlimited/1.4\n",
      "Apache/2.4.25 (Amazon) OpenSSL/1.0.1k-fips\n",
      "Apache/2.2.22 (Ubuntu)\n",
      "Tengine\n",
      "Apache/2.4.18 (Unix) OpenSSL/0.9.8e-fips-rhel5 mod_bwlimited/1.4\n",
      "Apache/2.4.10 (Debian)\n",
      "Apache/2.4.6 (CentOS) PHP/5.6.8\n",
      "Sun-ONE-Web-Server/6.1\n",
      "Apache/2.4.18 (Unix) OpenSSL/1.0.2e Communique/4.1.10\n",
      "AmazonS3\n",
      "Apache/1.3.37 (Unix) mod_perl/1.29 mod_ssl/2.8.28 OpenSSL/0.9.7e-p1\n",
      "ATS\n",
      "Apache/2.2.27 (CentOS)\n",
      "Apache/2.2.29 (Unix) mod_ssl/2.2.29 OpenSSL/1.0.1e-fips DAV/2 mod_bwlimited/1.4\n",
      "CherryPy/3.6.0\n",
      "Server\n",
      "KHL\n",
      "Apache/2.4.6 (CentOS) OpenSSL/1.0.1e-fips mod_fcgid/2.3.9 PHP/5.4.16 mod_jk/1.2.40\n",
      "Apache/2.2.3 (CentOS)\n",
      "Apache/2.4\n",
      "Apache/1.3.27 (Unix)  (Red-Hat/Linux) mod_perl/1.26 PHP/4.3.3 FrontPage/5.0.2 mod_ssl/2.8.12 OpenSSL/0.9.6b\n",
      "mw2114.codfw.wmnet\n",
      "Apache/2.2.31 (Unix) mod_ssl/2.2.31 OpenSSL/1.0.1e-fips mod_bwlimited/1.4 mod_perl/2.0.8 Perl/v5.10.1\n",
      "Apache/1.3.34 (Unix) PHP/4.4.4\n",
      "Apache/2.2.31 (Amazon)\n",
      "Jetty(9.0.z-SNAPSHOT)\n",
      "Apache/2.2.31 (CentOS)\n",
      "Apache/2.4.12 (Ubuntu)\n",
      "HTTPDaemon\n",
      "Apache/2.2.29 (Unix) mod_ssl/2.2.29 OpenSSL/1.0.1e-fips mod_bwlimited/1.4\n",
      "MediaFire\n",
      "DOSarrest\n",
      "mw2232.codfw.wmnet\n",
      "Sucuri/Cloudproxy\n",
      "Apache/2.4.23 (Unix)\n",
      "nginx/0.7.65\n",
      "mw2260.codfw.wmnet\n",
      "Apache/2.2.32\n",
      "mw2239.codfw.wmnet\n",
      "DPS/1.1.8\n",
      "Apache/2.0.52 (Red Hat)\n",
      "Apache/2.2.25 (Unix) mod_ssl/2.2.25 OpenSSL/0.9.8e-fips-rhel5 mod_bwlimited/1.4\n",
      "Apache/1.3.31 (Unix) PHP/4.3.9 mod_perl/1.29 rus/PL30.20\n",
      "Apache/2.2.13 (Unix) mod_ssl/2.2.13 OpenSSL/0.9.8e-fips-rhel5 mod_auth_passthrough/2.1 mod_bwlimited/1.4 PHP/5.2.10\n",
      "nginx/1.1.19\n",
      "ATS/5.3.0\n",
      "Apache/2.2.3 (Red Hat)\n",
      "nginx/1.4.3\n",
      "Apache/2.2.29 (Unix) mod_ssl/2.2.29 OpenSSL/1.0.1e-fips mod_bwlimited/1.4 PHP/5.4.35\n",
      "Apache/2.2.14 (FreeBSD) mod_ssl/2.2.14 OpenSSL/0.9.8y DAV/2 PHP/5.2.12 with Suhosin-Patch\n",
      "Apache/2.2.14 (Unix) mod_ssl/2.2.14 OpenSSL/0.9.8e-fips-rhel5\n",
      "Apache/1.3.39 (Unix) PHP/5.2.5 mod_auth_passthrough/1.8 mod_bwlimited/1.4 mod_log_bytes/1.2 mod_gzip/1.3.26.1a FrontPage/5.0.2.2635 DAV/1.0.3 mod_ssl/2.8.30 OpenSSL/0.9.7a\n",
      "SSWS\n",
      "Microsoft-IIS/8.0\n",
      "Apache/2.4.18 (Ubuntu)\n",
      "Apache/2.4.6 (CentOS) OpenSSL/1.0.1e-fips PHP/5.4.16 mod_apreq2-20090110/2.8.0 mod_perl/2.0.10 Perl/v5.24.1\n",
      "Apache/2.2.20 (Unix)\n",
      "YouTubeFrontEnd\n",
      "nginx/1.11.3\n",
      "nginx/1.11.2\n",
      "nginx/1.10.0 (Ubuntu)\n",
      "nginx/1.8.1\n",
      "nginx/1.11.10\n",
      "Squeegit/1.2.5 (3_sir)\n",
      "Virtuoso/07.20.3217 (Linux) i686-generic-linux-glibc212-64  VDB\n",
      "Apache-Coyote/1.1\n",
      "Yippee-Ki-Yay\n",
      "mw2165.codfw.wmnet\n",
      "mw2192.codfw.wmnet\n",
      "Apache/2.2.23 (Amazon)\n",
      "nginx/1.4.6 (Ubuntu)\n",
      "nginx + Phusion Passenger\n",
      "Proxy Pandeiro UOL\n",
      "mw2231.codfw.wmnet\n",
      "openresty/1.11.2.2\n",
      "mw2109.codfw.wmnet\n",
      "nginx/0.8.54\n",
      "Apache/2.4.6\n",
      "mw2225.codfw.wmnet\n",
      "Apache/1.3.27 (Unix) PHP/4.4.1\n",
      "mw2236.codfw.wmnet\n",
      "mw2101.codfw.wmnet\n",
      "Varnish\n",
      "Resin/3.1.8\n",
      "mw2164.codfw.wmnet\n",
      "Microsoft-IIS/8.5\n",
      "mw2242.codfw.wmnet\n",
      "Apache/2.4.6 (CentOS) OpenSSL/1.0.1e-fips PHP/5.5.38\n",
      "mw2175.codfw.wmnet\n",
      "mw2107.codfw.wmnet\n",
      "mw2190.codfw.wmnet\n",
      "Apache/2.4.6 (CentOS)\n",
      "nginx/1.13.0\n",
      "barista/5.1.3\n",
      "mw2103.codfw.wmnet\n",
      "Apache/2.4.25 (Debian)\n",
      "ECD (fll/0790)\n",
      "Pagely Gateway/1.5.1\n",
      "nginx/1.10.3\n",
      "Apache/2.4.25 (FreeBSD) OpenSSL/1.0.1s-freebsd PHP/5.6.30\n",
      "mw2097.codfw.wmnet\n",
      "mw2233.codfw.wmnet\n",
      "fbs\n",
      "mw2199.codfw.wmnet\n",
      "mw2255.codfw.wmnet\n",
      "mw2228.codfw.wmnet\n",
      "Apache/2.2.31 (Unix) mod_ssl/2.2.31 OpenSSL/1.0.1e-fips mod_bwlimited/1.4 mod_fcgid/2.3.9\n",
      "gunicorn/19.7.1\n",
      "Apache/2.2.31 (Unix) mod_ssl/2.2.31 OpenSSL/0.9.8e-fips-rhel5 mod_bwlimited/1.4\n",
      "Apache/2.4.6 (CentOS) OpenSSL/1.0.1e-fips PHP/5.4.16\n",
      "mw2241.codfw.wmnet\n",
      "Apache/1.3.33 (Unix) mod_ssl/2.8.24 OpenSSL/0.9.7e-p1 PHP/4.4.8\n",
      "lighttpd\n",
      "mw2230.codfw.wmnet\n",
      "Apache/2.4.6 (CentOS) OpenSSL/1.0.1e-fips\n",
      "AkamaiGHost\n",
      "mw2240.codfw.wmnet\n",
      "nginx/1.10.2\n",
      "PWS/8.2.0.7\n",
      "nginx/1.2.1\n",
      "nxfps\n",
      "Apache/2.2.16 (Unix) mod_ssl/2.2.16 OpenSSL/0.9.8e-fips-rhel5 mod_auth_passthrough/2.1 mod_bwlimited/1.4\n",
      "Play\n",
      "mw2185.codfw.wmnet\n",
      "Apache/2.4.10 (Unix) OpenSSL/1.0.1k\n",
      "Apache/Not telling (Unix) AuthTDS/1.1\n",
      "Apache/2.2.11 (Unix) PHP/5.2.6\n",
      "Scratch Web Server\n",
      "marrakesh 1.12.2\n",
      "nginx/0.8.35\n",
      "mw2182.codfw.wmnet\n",
      "squid/3.3.8\n",
      "nginx/1.10.0\n",
      "Nginx (OpenBSD)\n",
      "Zope/(2.13.16; python 2.6.8; linux2) ZServer/1.1\n",
      "Apache/2.2.26 (Unix) mod_ssl/2.2.26 OpenSSL/0.9.8e-fips-rhel5 mod_bwlimited/1.4 PHP/5.4.26\n",
      "Apache/2.2.21 (Unix) mod_ssl/2.2.21 OpenSSL/0.9.8e-fips-rhel5 PHP/5.3.10\n",
      "Apache/2.2.27 (Unix) OpenAM Web Agent/4.0.1-1 mod_ssl/2.2.27 OpenSSL/1.0.1p PHP/5.3.28\n",
      "mw2104.codfw.wmnet\n",
      ".V01 Apache\n",
      "mw2110.codfw.wmnet\n",
      "Apache/2.4.6 (Unix) mod_jk/1.2.37 PHP/5.5.1 OpenSSL/1.0.1g mod_fcgid/2.3.9\n",
      "mw2176.codfw.wmnet\n",
      "mw2187.codfw.wmnet\n",
      "mw2106.codfw.wmnet\n",
      "Microsoft-IIS/7.0\n",
      "Apache/1.3.42 Ben-SSL/1.60 (Unix) mod_gzip/1.3.26.1a mod_fastcgi/2.4.6 mod_throttle/3.1.2 Chili!Soft-ASP/3.6.2 FrontPage/5.0.2.2635 mod_perl/1.31 PHP/4.4.9\n",
      "Aeria Games & Entertainment\n",
      "nginx/1.6.3 + Phusion Passenger\n",
      "Apache/2.4.10 (Debian) PHP/5.6.30-0+deb8u1 mod_perl/2.0.9dev Perl/v5.20.2\n",
      "mw2173.codfw.wmnet\n",
      "Apache/2.4.6 (Red Hat Enterprise Linux) OpenSSL/1.0.1e-fips mod_fcgid/2.3.9 Communique/4.2.0\n",
      "Apache/2.2.15 (CentOS) DAV/2 mod_ssl/2.2.15 OpenSSL/1.0.1e-fips PHP/5.3.3\n",
      "Apache/2.4.6 (CentOS) OpenSSL/1.0.1e-fips PHP/7.0.14\n",
      "mw2198.codfw.wmnet\n",
      "mw2172.codfw.wmnet\n",
      "nginx/1.2.6\n",
      "Apache/2.4.6 (Unix) mod_jk/1.2.37\n",
      "Apache/2.4.25 (Unix) OpenSSL/1.0.1e-fips mod_bwlimited/1.4\n",
      "nginx/1.4.4\n",
      "Cowboy\n",
      "mw2113.codfw.wmnet\n",
      "Apache/2.2.14 (Unix) mod_ssl/2.2.14 OpenSSL/0.9.8a\n",
      "Apache/2.4.10 (Ubuntu)\n",
      "mw2224.codfw.wmnet\n",
      "mw2171.codfw.wmnet\n",
      "mw2257.codfw.wmnet\n",
      "mw2226.codfw.wmnet\n",
      "DMS/1.0.42\n",
      "nginx/1.6.3\n",
      "Application-Server\n",
      "Apache/2.4.6 (CentOS) mod_fcgid/2.3.9 PHP/5.6.30\n",
      "mw2177.codfw.wmnet\n",
      "lighttpd/1.4.28\n",
      "mw2197.codfw.wmnet\n",
      "Apache/2.2.31 (FreeBSD) PHP/5.4.15 mod_ssl/2.2.31 OpenSSL/1.0.2d DAV/2\n",
      "Apache/2.2.26 (Unix) mod_ssl/2.2.26 OpenSSL/1.0.1e-fips DAV/2 mod_bwlimited/1.4\n",
      "Apache/2.2.24 (Unix) DAV/2 PHP/5.3.26 mod_ssl/2.2.24 OpenSSL/0.9.8y\n",
      "mw2178.codfw.wmnet\n",
      "294\n",
      "Microsoft-IIS/6.0\n",
      "nginx/1.7.4\n",
      "Apache/2.2.22 (Debian) mod_python/3.3.1 Python/2.7.3 mod_ssl/2.2.22 OpenSSL/1.0.1t\n",
      "Apache/2.4.16 (Ubuntu)\n",
      "www.lexisnexis.com  9999\n",
      "nginx/0.8.38\n",
      "mw2238.codfw.wmnet\n",
      "Pizza/pepperoni\n",
      "XXXXXXXXXXXXXXXXXXXXXX\n",
      "MI\n",
      "Roxen/5.4.98-r2\n",
      "Apache/2.2.31 (Unix) mod_ssl/2.2.31 OpenSSL/1.0.1e-fips mod_bwlimited/1.4\n",
      "nginx/1.9.13\n",
      "mw2180.codfw.wmnet\n",
      "Apache/2.2.14 (Ubuntu)\n",
      "ebay server\n",
      "nginx/0.8.55\n",
      "Apache/2.2.10 (Linux/SUSE)\n",
      "nginx/1.7.12\n",
      "Apache/2.0.63 (Unix) mod_ssl/2.0.63 OpenSSL/0.9.8e-fips-rhel5 mod_auth_passthrough/2.1 mod_bwlimited/1.4 PHP/5.3.6\n",
      "Boston.com Frontend\n",
      "My Arse\n",
      "IdeaWebServer/v0.80\n",
      "Apache/2.4.17 (Unix) OpenSSL/1.0.1e-fips PHP/5.6.19\n",
      "Microsoft-IIS/7.5; litigation_essentials.lexisnexis.com  9999\n",
      "Apache/2.2.16 (Debian)\n"
     ]
    }
   ],
   "source": [
    "for i in websites['SERVER'].unique():\n",
    "    print(i)"
   ]
  },
  {
   "cell_type": "markdown",
   "metadata": {},
   "source": [
    "![Think Hard](../images/think-hard.jpg)"
   ]
  },
  {
   "cell_type": "code",
   "execution_count": 24,
   "metadata": {},
   "outputs": [],
   "source": [
    "# Many of them seem to share a root server like Apache, nginx, mw, etc so we could group them together"
   ]
  },
  {
   "cell_type": "markdown",
   "metadata": {},
   "source": [
    "Although there are so many unique values in the `SERVER` column, there are actually only 3 main server types: `Microsoft`, `Apache`, and `nginx`. Just check if each `SERVER` value contains any of those server types and re-label them. For `SERVER` values that don't contain any of those substrings, label with `Other`.\n",
    "\n",
    "At the end, your `SERVER` column should only contain 4 unique values: `Microsoft`, `Apache`, `nginx`, and `Other`."
   ]
  },
  {
   "cell_type": "code",
   "execution_count": 104,
   "metadata": {
    "ExecuteTime": {
     "end_time": "2021-05-06T15:44:16.611664Z",
     "start_time": "2021-05-06T15:44:16.572569Z"
    }
   },
   "outputs": [],
   "source": [
    "servers = ['Microsoft','Apache','nginx']\n",
    "websites.loc[websites['SERVER'].str.lower().str.contains('nginx'),'SERVER'] = 'nginx'\n",
    "websites.loc[websites['SERVER'].str.lower().str.contains('apache'),'SERVER'] = 'Apache'\n",
    "websites.loc[websites['SERVER'].str.lower().str.contains('microsoft'),'SERVER'] = 'Microsoft'\n",
    "websites.loc[~websites['SERVER'].isin(servers),'SERVER'] = 'Other'"
   ]
  },
  {
   "cell_type": "code",
   "execution_count": 105,
   "metadata": {
    "ExecuteTime": {
     "end_time": "2021-05-06T15:44:18.351713Z",
     "start_time": "2021-05-06T15:44:18.318826Z"
    },
    "scrolled": false
   },
   "outputs": [
    {
     "name": "stdout",
     "output_type": "stream",
     "text": [
      "nginx\n",
      "Apache\n",
      "Microsoft\n",
      "Other\n"
     ]
    }
   ],
   "source": [
    "websites['SERVER'].unique():"
   ]
  },
  {
   "cell_type": "markdown",
   "metadata": {},
   "source": [
    "OK, all our categorical data are fixed now. **Let's convert them to ordinal data using Pandas' `get_dummies` function ([documentation](https://pandas.pydata.org/pandas-docs/stable/generated/pandas.get_dummies.html)).** Make sure you drop the categorical columns by passing `drop_first=True` to `get_dummies` as we don't need them any more. **Also, assign the data with dummy values to a new variable `website_dummy`.**"
   ]
  },
  {
   "cell_type": "code",
   "execution_count": 120,
   "metadata": {
    "ExecuteTime": {
     "end_time": "2021-05-06T16:32:54.027973Z",
     "start_time": "2021-05-06T16:32:53.986733Z"
    }
   },
   "outputs": [],
   "source": [
    "website_dummy = pd.get_dummies(websites,columns=['SERVER','WHOIS_COUNTRY','CHARSET'],drop_first=True)"
   ]
  },
  {
   "cell_type": "markdown",
   "metadata": {},
   "source": [
    "Now, inspect `website_dummy` to make sure the data and types are intended - there shouldn't be any categorical columns at this point."
   ]
  },
  {
   "cell_type": "code",
   "execution_count": 121,
   "metadata": {
    "ExecuteTime": {
     "end_time": "2021-05-06T16:32:55.755038Z",
     "start_time": "2021-05-06T16:32:55.608952Z"
    }
   },
   "outputs": [
    {
     "data": {
      "text/html": [
       "<div>\n",
       "<style scoped>\n",
       "    .dataframe tbody tr th:only-of-type {\n",
       "        vertical-align: middle;\n",
       "    }\n",
       "\n",
       "    .dataframe tbody tr th {\n",
       "        vertical-align: top;\n",
       "    }\n",
       "\n",
       "    .dataframe thead th {\n",
       "        text-align: right;\n",
       "    }\n",
       "</style>\n",
       "<table border=\"1\" class=\"dataframe\">\n",
       "  <thead>\n",
       "    <tr style=\"text-align: right;\">\n",
       "      <th></th>\n",
       "      <th>URL_LENGTH</th>\n",
       "      <th>NUMBER_SPECIAL_CHARACTERS</th>\n",
       "      <th>DIST_REMOTE_TCP_PORT</th>\n",
       "      <th>REMOTE_IPS</th>\n",
       "      <th>APP_BYTES</th>\n",
       "      <th>SOURCE_APP_BYTES</th>\n",
       "      <th>APP_PACKETS</th>\n",
       "      <th>DNS_QUERY_TIMES</th>\n",
       "      <th>Type</th>\n",
       "      <th>SERVER_Microsoft</th>\n",
       "      <th>...</th>\n",
       "      <th>WHOIS_COUNTRY_UK</th>\n",
       "      <th>WHOIS_COUNTRY_US</th>\n",
       "      <th>CHARSET_ISO-8859-1</th>\n",
       "      <th>CHARSET_None</th>\n",
       "      <th>CHARSET_UTF-8</th>\n",
       "      <th>CHARSET_iso-8859-1</th>\n",
       "      <th>CHARSET_us-ascii</th>\n",
       "      <th>CHARSET_utf-8</th>\n",
       "      <th>CHARSET_windows-1251</th>\n",
       "      <th>CHARSET_windows-1252</th>\n",
       "    </tr>\n",
       "  </thead>\n",
       "  <tbody>\n",
       "    <tr>\n",
       "      <th>0</th>\n",
       "      <td>16</td>\n",
       "      <td>7</td>\n",
       "      <td>0</td>\n",
       "      <td>2</td>\n",
       "      <td>700</td>\n",
       "      <td>1153</td>\n",
       "      <td>9</td>\n",
       "      <td>2.0</td>\n",
       "      <td>1</td>\n",
       "      <td>0</td>\n",
       "      <td>...</td>\n",
       "      <td>0</td>\n",
       "      <td>0</td>\n",
       "      <td>0</td>\n",
       "      <td>0</td>\n",
       "      <td>0</td>\n",
       "      <td>1</td>\n",
       "      <td>0</td>\n",
       "      <td>0</td>\n",
       "      <td>0</td>\n",
       "      <td>0</td>\n",
       "    </tr>\n",
       "    <tr>\n",
       "      <th>1</th>\n",
       "      <td>16</td>\n",
       "      <td>6</td>\n",
       "      <td>7</td>\n",
       "      <td>4</td>\n",
       "      <td>1230</td>\n",
       "      <td>1265</td>\n",
       "      <td>17</td>\n",
       "      <td>0.0</td>\n",
       "      <td>0</td>\n",
       "      <td>0</td>\n",
       "      <td>...</td>\n",
       "      <td>0</td>\n",
       "      <td>0</td>\n",
       "      <td>0</td>\n",
       "      <td>0</td>\n",
       "      <td>1</td>\n",
       "      <td>0</td>\n",
       "      <td>0</td>\n",
       "      <td>0</td>\n",
       "      <td>0</td>\n",
       "      <td>0</td>\n",
       "    </tr>\n",
       "    <tr>\n",
       "      <th>2</th>\n",
       "      <td>16</td>\n",
       "      <td>6</td>\n",
       "      <td>0</td>\n",
       "      <td>0</td>\n",
       "      <td>0</td>\n",
       "      <td>0</td>\n",
       "      <td>0</td>\n",
       "      <td>0.0</td>\n",
       "      <td>0</td>\n",
       "      <td>1</td>\n",
       "      <td>...</td>\n",
       "      <td>0</td>\n",
       "      <td>0</td>\n",
       "      <td>0</td>\n",
       "      <td>0</td>\n",
       "      <td>0</td>\n",
       "      <td>0</td>\n",
       "      <td>1</td>\n",
       "      <td>0</td>\n",
       "      <td>0</td>\n",
       "      <td>0</td>\n",
       "    </tr>\n",
       "    <tr>\n",
       "      <th>3</th>\n",
       "      <td>17</td>\n",
       "      <td>6</td>\n",
       "      <td>22</td>\n",
       "      <td>3</td>\n",
       "      <td>3812</td>\n",
       "      <td>18784</td>\n",
       "      <td>39</td>\n",
       "      <td>8.0</td>\n",
       "      <td>0</td>\n",
       "      <td>0</td>\n",
       "      <td>...</td>\n",
       "      <td>0</td>\n",
       "      <td>1</td>\n",
       "      <td>1</td>\n",
       "      <td>0</td>\n",
       "      <td>0</td>\n",
       "      <td>0</td>\n",
       "      <td>0</td>\n",
       "      <td>0</td>\n",
       "      <td>0</td>\n",
       "      <td>0</td>\n",
       "    </tr>\n",
       "    <tr>\n",
       "      <th>4</th>\n",
       "      <td>17</td>\n",
       "      <td>6</td>\n",
       "      <td>2</td>\n",
       "      <td>5</td>\n",
       "      <td>4278</td>\n",
       "      <td>129889</td>\n",
       "      <td>61</td>\n",
       "      <td>4.0</td>\n",
       "      <td>0</td>\n",
       "      <td>0</td>\n",
       "      <td>...</td>\n",
       "      <td>0</td>\n",
       "      <td>1</td>\n",
       "      <td>0</td>\n",
       "      <td>0</td>\n",
       "      <td>1</td>\n",
       "      <td>0</td>\n",
       "      <td>0</td>\n",
       "      <td>0</td>\n",
       "      <td>0</td>\n",
       "      <td>0</td>\n",
       "    </tr>\n",
       "    <tr>\n",
       "      <th>...</th>\n",
       "      <td>...</td>\n",
       "      <td>...</td>\n",
       "      <td>...</td>\n",
       "      <td>...</td>\n",
       "      <td>...</td>\n",
       "      <td>...</td>\n",
       "      <td>...</td>\n",
       "      <td>...</td>\n",
       "      <td>...</td>\n",
       "      <td>...</td>\n",
       "      <td>...</td>\n",
       "      <td>...</td>\n",
       "      <td>...</td>\n",
       "      <td>...</td>\n",
       "      <td>...</td>\n",
       "      <td>...</td>\n",
       "      <td>...</td>\n",
       "      <td>...</td>\n",
       "      <td>...</td>\n",
       "      <td>...</td>\n",
       "      <td>...</td>\n",
       "    </tr>\n",
       "    <tr>\n",
       "      <th>1776</th>\n",
       "      <td>194</td>\n",
       "      <td>16</td>\n",
       "      <td>0</td>\n",
       "      <td>0</td>\n",
       "      <td>0</td>\n",
       "      <td>186</td>\n",
       "      <td>0</td>\n",
       "      <td>0.0</td>\n",
       "      <td>1</td>\n",
       "      <td>0</td>\n",
       "      <td>...</td>\n",
       "      <td>0</td>\n",
       "      <td>0</td>\n",
       "      <td>0</td>\n",
       "      <td>0</td>\n",
       "      <td>1</td>\n",
       "      <td>0</td>\n",
       "      <td>0</td>\n",
       "      <td>0</td>\n",
       "      <td>0</td>\n",
       "      <td>0</td>\n",
       "    </tr>\n",
       "    <tr>\n",
       "      <th>1777</th>\n",
       "      <td>198</td>\n",
       "      <td>17</td>\n",
       "      <td>0</td>\n",
       "      <td>0</td>\n",
       "      <td>0</td>\n",
       "      <td>124</td>\n",
       "      <td>0</td>\n",
       "      <td>0.0</td>\n",
       "      <td>1</td>\n",
       "      <td>0</td>\n",
       "      <td>...</td>\n",
       "      <td>0</td>\n",
       "      <td>0</td>\n",
       "      <td>0</td>\n",
       "      <td>0</td>\n",
       "      <td>1</td>\n",
       "      <td>0</td>\n",
       "      <td>0</td>\n",
       "      <td>0</td>\n",
       "      <td>0</td>\n",
       "      <td>0</td>\n",
       "    </tr>\n",
       "    <tr>\n",
       "      <th>1778</th>\n",
       "      <td>201</td>\n",
       "      <td>34</td>\n",
       "      <td>2</td>\n",
       "      <td>6</td>\n",
       "      <td>6631</td>\n",
       "      <td>132181</td>\n",
       "      <td>87</td>\n",
       "      <td>4.0</td>\n",
       "      <td>0</td>\n",
       "      <td>0</td>\n",
       "      <td>...</td>\n",
       "      <td>0</td>\n",
       "      <td>1</td>\n",
       "      <td>0</td>\n",
       "      <td>0</td>\n",
       "      <td>0</td>\n",
       "      <td>0</td>\n",
       "      <td>0</td>\n",
       "      <td>1</td>\n",
       "      <td>0</td>\n",
       "      <td>0</td>\n",
       "    </tr>\n",
       "    <tr>\n",
       "      <th>1779</th>\n",
       "      <td>234</td>\n",
       "      <td>34</td>\n",
       "      <td>0</td>\n",
       "      <td>0</td>\n",
       "      <td>0</td>\n",
       "      <td>0</td>\n",
       "      <td>0</td>\n",
       "      <td>0.0</td>\n",
       "      <td>0</td>\n",
       "      <td>0</td>\n",
       "      <td>...</td>\n",
       "      <td>0</td>\n",
       "      <td>1</td>\n",
       "      <td>1</td>\n",
       "      <td>0</td>\n",
       "      <td>0</td>\n",
       "      <td>0</td>\n",
       "      <td>0</td>\n",
       "      <td>0</td>\n",
       "      <td>0</td>\n",
       "      <td>0</td>\n",
       "    </tr>\n",
       "    <tr>\n",
       "      <th>1780</th>\n",
       "      <td>249</td>\n",
       "      <td>40</td>\n",
       "      <td>6</td>\n",
       "      <td>11</td>\n",
       "      <td>2314</td>\n",
       "      <td>3039</td>\n",
       "      <td>25</td>\n",
       "      <td>6.0</td>\n",
       "      <td>0</td>\n",
       "      <td>1</td>\n",
       "      <td>...</td>\n",
       "      <td>0</td>\n",
       "      <td>1</td>\n",
       "      <td>0</td>\n",
       "      <td>0</td>\n",
       "      <td>0</td>\n",
       "      <td>0</td>\n",
       "      <td>0</td>\n",
       "      <td>1</td>\n",
       "      <td>0</td>\n",
       "      <td>0</td>\n",
       "    </tr>\n",
       "  </tbody>\n",
       "</table>\n",
       "<p>1779 rows × 30 columns</p>\n",
       "</div>"
      ],
      "text/plain": [
       "      URL_LENGTH  NUMBER_SPECIAL_CHARACTERS  DIST_REMOTE_TCP_PORT  REMOTE_IPS  \\\n",
       "0             16                          7                     0           2   \n",
       "1             16                          6                     7           4   \n",
       "2             16                          6                     0           0   \n",
       "3             17                          6                    22           3   \n",
       "4             17                          6                     2           5   \n",
       "...          ...                        ...                   ...         ...   \n",
       "1776         194                         16                     0           0   \n",
       "1777         198                         17                     0           0   \n",
       "1778         201                         34                     2           6   \n",
       "1779         234                         34                     0           0   \n",
       "1780         249                         40                     6          11   \n",
       "\n",
       "      APP_BYTES  SOURCE_APP_BYTES  APP_PACKETS  DNS_QUERY_TIMES  Type  \\\n",
       "0           700              1153            9              2.0     1   \n",
       "1          1230              1265           17              0.0     0   \n",
       "2             0                 0            0              0.0     0   \n",
       "3          3812             18784           39              8.0     0   \n",
       "4          4278            129889           61              4.0     0   \n",
       "...         ...               ...          ...              ...   ...   \n",
       "1776          0               186            0              0.0     1   \n",
       "1777          0               124            0              0.0     1   \n",
       "1778       6631            132181           87              4.0     0   \n",
       "1779          0                 0            0              0.0     0   \n",
       "1780       2314              3039           25              6.0     0   \n",
       "\n",
       "      SERVER_Microsoft  ...  WHOIS_COUNTRY_UK  WHOIS_COUNTRY_US  \\\n",
       "0                    0  ...                 0                 0   \n",
       "1                    0  ...                 0                 0   \n",
       "2                    1  ...                 0                 0   \n",
       "3                    0  ...                 0                 1   \n",
       "4                    0  ...                 0                 1   \n",
       "...                ...  ...               ...               ...   \n",
       "1776                 0  ...                 0                 0   \n",
       "1777                 0  ...                 0                 0   \n",
       "1778                 0  ...                 0                 1   \n",
       "1779                 0  ...                 0                 1   \n",
       "1780                 1  ...                 0                 1   \n",
       "\n",
       "      CHARSET_ISO-8859-1  CHARSET_None  CHARSET_UTF-8  CHARSET_iso-8859-1  \\\n",
       "0                      0             0              0                   1   \n",
       "1                      0             0              1                   0   \n",
       "2                      0             0              0                   0   \n",
       "3                      1             0              0                   0   \n",
       "4                      0             0              1                   0   \n",
       "...                  ...           ...            ...                 ...   \n",
       "1776                   0             0              1                   0   \n",
       "1777                   0             0              1                   0   \n",
       "1778                   0             0              0                   0   \n",
       "1779                   1             0              0                   0   \n",
       "1780                   0             0              0                   0   \n",
       "\n",
       "      CHARSET_us-ascii  CHARSET_utf-8  CHARSET_windows-1251  \\\n",
       "0                    0              0                     0   \n",
       "1                    0              0                     0   \n",
       "2                    1              0                     0   \n",
       "3                    0              0                     0   \n",
       "4                    0              0                     0   \n",
       "...                ...            ...                   ...   \n",
       "1776                 0              0                     0   \n",
       "1777                 0              0                     0   \n",
       "1778                 0              1                     0   \n",
       "1779                 0              0                     0   \n",
       "1780                 0              1                     0   \n",
       "\n",
       "      CHARSET_windows-1252  \n",
       "0                        0  \n",
       "1                        0  \n",
       "2                        0  \n",
       "3                        0  \n",
       "4                        0  \n",
       "...                    ...  \n",
       "1776                     0  \n",
       "1777                     0  \n",
       "1778                     0  \n",
       "1779                     0  \n",
       "1780                     0  \n",
       "\n",
       "[1779 rows x 30 columns]"
      ]
     },
     "execution_count": 121,
     "metadata": {},
     "output_type": "execute_result"
    }
   ],
   "source": [
    "website_dummy"
   ]
  },
  {
   "cell_type": "markdown",
   "metadata": {},
   "source": [
    "# Challenge 6 - Modeling, Prediction, and Evaluation\n",
    "\n",
    "We'll start off this section by splitting the data to train and test. **Name your 4 variables `X_train`, `X_test`, `y_train`, and `y_test`. Select 80% of the data for training and 20% for testing.**"
   ]
  },
  {
   "cell_type": "code",
   "execution_count": 155,
   "metadata": {
    "ExecuteTime": {
     "end_time": "2021-05-07T08:23:56.099791Z",
     "start_time": "2021-05-07T08:23:56.040010Z"
    }
   },
   "outputs": [],
   "source": [
    "from sklearn.model_selection import train_test_split\n",
    "\n",
    "X = website_dummy.loc[:,website_dummy.columns!='Type']\n",
    "y =website_dummy['Type']\n",
    "X_train, X_test, y_train, y_test = train_test_split(X, y, test_size=0.20, random_state=420)"
   ]
  },
  {
   "cell_type": "markdown",
   "metadata": {},
   "source": [
    "#### In this lab, we will try two different models and compare our results.\n",
    "\n",
    "The first model we will use in this lab is logistic regression. We have previously learned about logistic regression as a classification algorithm. In the cell below, load `LogisticRegression` from scikit-learn and initialize the model."
   ]
  },
  {
   "cell_type": "code",
   "execution_count": 158,
   "metadata": {
    "ExecuteTime": {
     "end_time": "2021-05-07T10:11:51.037980Z",
     "start_time": "2021-05-07T10:11:51.016904Z"
    }
   },
   "outputs": [],
   "source": [
    "from sklearn.linear_model import LogisticRegression\n",
    "\n",
    "model = LogisticRegression(max_iter=500)"
   ]
  },
  {
   "cell_type": "markdown",
   "metadata": {},
   "source": [
    "Next, fit the model to our training data. We have already separated our data into 4 parts. Use those in your model."
   ]
  },
  {
   "cell_type": "code",
   "execution_count": 159,
   "metadata": {
    "ExecuteTime": {
     "end_time": "2021-05-07T10:11:54.381030Z",
     "start_time": "2021-05-07T10:11:52.809452Z"
    }
   },
   "outputs": [
    {
     "data": {
      "text/plain": [
       "LogisticRegression(max_iter=500)"
      ]
     },
     "execution_count": 159,
     "metadata": {},
     "output_type": "execute_result"
    }
   ],
   "source": [
    "model.fit(X_train,y_train)"
   ]
  },
  {
   "cell_type": "markdown",
   "metadata": {},
   "source": [
    "finally, import `confusion_matrix` and `accuracy_score` from `sklearn.metrics` and fit our testing data. Assign the fitted data to `y_pred` and print the confusion matrix as well as the accuracy score"
   ]
  },
  {
   "cell_type": "code",
   "execution_count": 162,
   "metadata": {
    "ExecuteTime": {
     "end_time": "2021-05-07T10:13:21.309506Z",
     "start_time": "2021-05-07T10:13:19.646959Z"
    }
   },
   "outputs": [
    {
     "name": "stdout",
     "output_type": "stream",
     "text": [
      "[[306   6]\n",
      " [ 21  23]]\n",
      "0.9241573033707865\n"
     ]
    },
    {
     "data": {
      "text/plain": [
       "<sklearn.metrics._plot.confusion_matrix.ConfusionMatrixDisplay at 0x7fe6463c3040>"
      ]
     },
     "execution_count": 162,
     "metadata": {},
     "output_type": "execute_result"
    },
    {
     "data": {
      "image/png": "[encoded data removed]",
      "text/plain": [
       "<Figure size 432x288 with 2 Axes>"
      ]
     },
     "metadata": {
      "needs_background": "light"
     },
     "output_type": "display_data"
    }
   ],
   "source": [
    "from sklearn.metrics import confusion_matrix, accuracy_score, plot_confusion_matrix\n",
    "\n",
    "y_pred_train = model.predict(X_train)\n",
    "y_pred_test  = model.predict(X_test)\n",
    "\n",
    "#         P r e d\n",
    "#    ---------------\n",
    "#   |     0     1\n",
    "# T |   |----------\n",
    "# r | 0 |307     5\n",
    "# u |   |\n",
    "# e | 1 | 20    24 \n",
    "#\n",
    "\n",
    "print(confusion_matrix(y_test,y_pred_test))\n",
    "print(accuracy_score(y_test,y_pred_test))\n",
    "\n",
    "plot_confusion_matrix(model,X_test,y_test)"
   ]
  },
  {
   "cell_type": "code",
   "execution_count": 137,
   "metadata": {
    "ExecuteTime": {
     "end_time": "2021-05-06T22:49:45.397277Z",
     "start_time": "2021-05-06T22:49:45.387435Z"
    }
   },
   "outputs": [
    {
     "name": "stdout",
     "output_type": "stream",
     "text": [
      "[[1222   29]\n",
      " [  78   94]]\n",
      "0.9248067463106114\n"
     ]
    }
   ],
   "source": [
    "print(confusion_matrix(y_train,y_pred_train))\n",
    "print(accuracy_score(y_train,y_pred_train))"
   ]
  },
  {
   "cell_type": "markdown",
   "metadata": {},
   "source": [
    "What are your thoughts on the performance of the model? Write your conclusions below."
   ]
  },
  {
   "cell_type": "code",
   "execution_count": 33,
   "metadata": {},
   "outputs": [],
   "source": [
    "# Although the accuracy value is quite high, only a bit more than half of the malicious websites\n",
    "# have been correctly predicted. Probably we should look at other metrics than the accuracy"
   ]
  },
  {
   "cell_type": "markdown",
   "metadata": {},
   "source": [
    "#### Our second algorithm is is K-Nearest Neighbors. \n",
    "\n",
    "Though is it not required, we will fit a model using the training data and then test the performance of the model using the testing data. Start by loading `KNeighborsClassifier` from scikit-learn and then initializing and fitting the model. We'll start off with a model where k=3."
   ]
  },
  {
   "cell_type": "code",
   "execution_count": 141,
   "metadata": {
    "ExecuteTime": {
     "end_time": "2021-05-06T22:54:35.505762Z",
     "start_time": "2021-05-06T22:54:35.488168Z"
    }
   },
   "outputs": [
    {
     "data": {
      "text/plain": [
       "KNeighborsClassifier(n_neighbors=3)"
      ]
     },
     "execution_count": 141,
     "metadata": {},
     "output_type": "execute_result"
    }
   ],
   "source": [
    "from sklearn.neighbors import KNeighborsClassifier\n",
    "\n",
    "model2 = KNeighborsClassifier(n_neighbors=3)\n",
    "\n",
    "model2.fit(X_train,y_train)"
   ]
  },
  {
   "cell_type": "markdown",
   "metadata": {},
   "source": [
    "To test your model, compute the predicted values for the testing sample and print the confusion matrix as well as the accuracy score."
   ]
  },
  {
   "cell_type": "code",
   "execution_count": 142,
   "metadata": {
    "ExecuteTime": {
     "end_time": "2021-05-06T22:56:07.505688Z",
     "start_time": "2021-05-06T22:56:07.376605Z"
    }
   },
   "outputs": [
    {
     "name": "stdout",
     "output_type": "stream",
     "text": [
      "[[304   8]\n",
      " [ 15  29]]\n",
      "0.9353932584269663\n"
     ]
    }
   ],
   "source": [
    "y_pred_test2 = model2.predict(X_test)\n",
    "y_pred_train2 = model2.predict(X_train)\n",
    "\n",
    "print(confusion_matrix(y_test,y_pred_test2))\n",
    "print(accuracy_score(y_test,y_pred_test2))"
   ]
  },
  {
   "cell_type": "markdown",
   "metadata": {},
   "source": [
    "#### We'll create another K-Nearest Neighbors model with k=5. \n",
    "\n",
    "Initialize and fit the model below and print the confusion matrix and the accuracy score."
   ]
  },
  {
   "cell_type": "code",
   "execution_count": 143,
   "metadata": {
    "ExecuteTime": {
     "end_time": "2021-05-06T22:57:08.383570Z",
     "start_time": "2021-05-06T22:57:08.270291Z"
    }
   },
   "outputs": [
    {
     "name": "stdout",
     "output_type": "stream",
     "text": [
      "[[304   8]\n",
      " [ 16  28]]\n",
      "0.9325842696629213\n"
     ]
    }
   ],
   "source": [
    "model3 = KNeighborsClassifier(n_neighbors=5)\n",
    "\n",
    "model3.fit(X_train,y_train)\n",
    "\n",
    "y_pred_test3 = model3.predict(X_test)\n",
    "y_pred_train3 = model3.predict(X_train)\n",
    "\n",
    "print(confusion_matrix(y_test,y_pred_test3))\n",
    "print(accuracy_score(y_test,y_pred_test3))"
   ]
  },
  {
   "cell_type": "markdown",
   "metadata": {},
   "source": [
    "Did you see an improvement in the confusion matrix when increasing k to 5? Did you see an improvement in the accuracy score? Write your conclusions below."
   ]
  },
  {
   "cell_type": "code",
   "execution_count": 148,
   "metadata": {
    "ExecuteTime": {
     "end_time": "2021-05-06T23:01:12.417025Z",
     "start_time": "2021-05-06T23:01:12.410612Z"
    }
   },
   "outputs": [],
   "source": [
    "# There was a worse result both in the confusion matrix and in the accuracy score with k=5"
   ]
  },
  {
   "cell_type": "markdown",
   "metadata": {},
   "source": [
    "# Bonus Challenge - Feature Scaling\n",
    "\n",
    "Problem-solving in machine learning is iterative. You can improve your model prediction with various techniques (there is a sweetspot for the time you spend and the improvement you receive though). Now you've completed only one iteration of ML analysis. There are more iterations you can conduct to make improvements. In order to be able to do that, you will need deeper knowledge in statistics and master more data analysis techniques. In this bootcamp, we don't have time to achieve that advanced goal. But you will make constant efforts after the bootcamp to eventually get there.\n",
    "\n",
    "However, now we do want you to learn one of the advanced techniques which is called *feature scaling*. The idea of feature scaling is to standardize/normalize the range of independent variables or features of the data. This can make the outliers more apparent so that you can remove them. This step needs to happen during Challenge 6 after you split the training and test data because you don't want to split the data again which makes it impossible to compare your results with and without feature scaling. For general concepts about feature scaling, click [here](https://en.wikipedia.org/wiki/Feature_scaling). To read deeper, click [here](https://medium.com/greyatom/why-how-and-when-to-scale-your-features-4b30ab09db5e).\n",
    "\n",
    "In the next cell, attempt to improve your model prediction accuracy by means of feature scaling. A library you can utilize is `sklearn.preprocessing.RobustScaler` ([documentation](https://scikit-learn.org/stable/modules/generated/sklearn.preprocessing.RobustScaler.html)). You'll use the `RobustScaler` to fit and transform your `X_train`, then transform `X_test`. You will use logistic regression to fit and predict your transformed data and obtain the accuracy score in the same way. Compare the accuracy score with your normalized data with the previous accuracy data. Is there an improvement?"
   ]
  },
  {
   "cell_type": "code",
   "execution_count": 169,
   "metadata": {
    "ExecuteTime": {
     "end_time": "2021-05-07T10:22:47.105685Z",
     "start_time": "2021-05-07T10:22:46.838551Z"
    }
   },
   "outputs": [
    {
     "name": "stdout",
     "output_type": "stream",
     "text": [
      "[[309   3]\n",
      " [ 19  25]]\n",
      "0.9382022471910112\n",
      "              precision    recall  f1-score   support\n",
      "\n",
      "           0       0.94      0.99      0.97       312\n",
      "           1       0.89      0.57      0.69        44\n",
      "\n",
      "    accuracy                           0.94       356\n",
      "   macro avg       0.92      0.78      0.83       356\n",
      "weighted avg       0.94      0.94      0.93       356\n",
      "\n"
     ]
    }
   ],
   "source": [
    "from sklearn.preprocessing import RobustScaler\n",
    "from sklearn.metrics import classification_report\n",
    "\n",
    "scaler = RobustScaler()\n",
    "modelb = LogisticRegression(max_iter=500)\n",
    "\n",
    "scaler.fit(X_train)\n",
    "\n",
    "X_trainb = scaler.transform(X_train)\n",
    "X_testb = scaler.transform(X_test)\n",
    "\n",
    "modelb.fit(X_trainb,y_train)\n",
    "\n",
    "y_pred_testb = modelb.predict(X_testb)\n",
    "\n",
    "print(confusion_matrix(y_test,y_pred_testb))\n",
    "print(accuracy_score(y_test,y_pred_testb))\n",
    "\n",
    "print(classification_report(y_test,y_pred_testb))\n",
    "\n",
    "#There isn't an improvement after applying the scaler in what we care about: false negatives"
   ]
  }
 ],
 "metadata": {
  "kernelspec": {
   "display_name": "Python 3",
   "language": "python",
   "name": "python3"
  },
  "language_info": {
   "codemirror_mode": {
    "name": "ipython",
    "version": 3
   },
   "file_extension": ".py",
   "mimetype": "text/x-python",
   "name": "python",
   "nbconvert_exporter": "python",
   "pygments_lexer": "ipython3",
   "version": "3.8.5"
  },
  "latex_envs": {
   "LaTeX_envs_menu_present": true,
   "autoclose": false,
   "autocomplete": true,
   "bibliofile": "biblio.bib",
   "cite_by": "apalike",
   "current_citInitial": 1,
   "eqLabelWithNumbers": true,
   "eqNumInitial": 1,
   "hotkeys": {
    "equation": "Ctrl-E",
    "itemize": "Ctrl-I"
   },
   "labels_anchors": false,
   "latex_user_defs": false,
   "report_style_numbering": false,
   "user_envs_cfg": false
  },
  "varInspector": {
   "cols": {
    "lenName": 16,
    "lenType": 16,
    "lenVar": 40
   },
   "kernels_config": {
    "python": {
     "delete_cmd_postfix": "",
     "delete_cmd_prefix": "del ",
     "library": "var_list.py",
     "varRefreshCmd": "print(var_dic_list())"
    },
    "r": {
     "delete_cmd_postfix": ") ",
     "delete_cmd_prefix": "rm(",
     "library": "var_list.r",
     "varRefreshCmd": "cat(var_dic_list()) "
    }
   },
   "types_to_exclude": [
    "module",
    "function",
    "builtin_function_or_method",
    "instance",
    "_Feature"
   ],
   "window_display": false
  }
 },
 "nbformat": 4,
 "nbformat_minor": 2
}
